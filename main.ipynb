{
 "cells": [
  {
   "cell_type": "code",
   "execution_count": 8,
   "metadata": {},
   "outputs": [],
   "source": [
    "import numpy as np"
   ]
  },
  {
   "cell_type": "markdown",
   "metadata": {},
   "source": [
    "# Lendo o arquivo de entrada e preparando a tabela inicial"
   ]
  },
  {
   "cell_type": "code",
   "execution_count": 12,
   "metadata": {},
   "outputs": [],
   "source": [
    "def ler_entrada(arquivo):\n",
    "    try:\n",
    "        with open(arquivo, 'r') as f:\n",
    "            linhas = [linha.strip() for linha in f.readlines()]\n",
    "        \n",
    "        if len(linhas) < 5:\n",
    "            raise ValueError(\"O arquivo deve ter pelo menos 5 linhas: número de origens, número de destinos, capacidades de atendimento de cada origem, demandas de cada destino, e matriz de custos de transporte.\")\n",
    "        \n",
    "        try:\n",
    "            num_origens = int(linhas[0])\n",
    "            if num_origens <= 0:\n",
    "                raise ValueError(\"O número de origens deve ser um inteiro positivo.\")\n",
    "        except ValueError:\n",
    "            raise ValueError(\"A primeira linha deve ser um número inteiro positivo.\")\n",
    "\n",
    "        try:\n",
    "            num_destinos = int(linhas[1])\n",
    "            if num_destinos <= 0:\n",
    "                raise ValueError(\"O número de destinos deve ser um inteiro positivo.\")\n",
    "        except ValueError:\n",
    "            raise ValueError(\"A segunda linha deve ser um número inteiro positivo indicando o número de destinos.\")\n",
    "        \n",
    "        try:\n",
    "            cap_atendimento = linhas[2].replace(', ', ' ').split()\n",
    "            cap_atendimento = [int(x) for x in cap_atendimento]\n",
    "            if len(cap_atendimento) != num_origens:\n",
    "                print(f\"O número de origens é {num_origens}.\")\n",
    "                print(f\"O número de cap é {len(cap_atendimento)}.\")\n",
    "                raise ValueError(\"A capacidade de atendimento deve ser um vetor com pelo menos 1 posição.\")\n",
    "        except ValueError:\n",
    "            raise ValueError(\"A terceira linha deve ser um vetor com pelo menos 1 posição.\")\n",
    "        \n",
    "        try:\n",
    "            demandas = linhas[3].replace(', ', ' ').split()\n",
    "            demandas = [int(x) for x in demandas]\n",
    "            if len(demandas) != num_destinos:\n",
    "                print(f\"O número de demandas é {len(demandas)}.\")\n",
    "                print(f\"O número de destinos é {num_destinos}.\")\n",
    "                raise ValueError(f\"A quantidade de demandas deve ser igual ao número de destinos ({num_destinos}).\")\n",
    "        except ValueError:\n",
    "            raise ValueError(\"A quarta linha deve ser um vetor com pelo menos 1 posição.\")\n",
    "\n",
    "        if len(linhas) != 4 + num_origens:\n",
    "            raise ValueError(f\"O arquivo deve ter exatamente {4 + num_origens} linhas, mas possui {len(linhas)}.\")\n",
    "        \n",
    "        # Lendo a matriz de custos\n",
    "        try:\n",
    "            matriz_custos = np.zeros((num_origens, num_destinos), dtype=np.float64)\n",
    "            for i in range(num_origens):\n",
    "                valores = linhas[4 + i].replace(', ', ' ').split()\n",
    "                if len(valores) != num_destinos:\n",
    "                    raise ValueError(f\"A linha {5 + i} deve conter exatamente {num_destinos} valores.\")\n",
    "                matriz_custos[i, :] = [float(x) for x in valores]\n",
    "        except ValueError:\n",
    "            raise ValueError(\"A quarta linha deve conter os coeficientes da função objetivo, separados por vírgulas ou espaços.\")\n",
    "        \n",
    "        return num_origens, num_destinos, cap_atendimento, demandas, matriz_custos\n",
    "\n",
    "    except FileNotFoundError:\n",
    "        raise FileNotFoundError(f\"O arquivo '{arquivo}' não foi encontrado.\")\n",
    "    except Exception as e:\n",
    "        raise RuntimeError(f\"Erro ao ler o arquivo: {e}\")"
   ]
  },
  {
   "cell_type": "code",
   "execution_count": 13,
   "metadata": {},
   "outputs": [
    {
     "name": "stdout",
     "output_type": "stream",
     "text": [
      "Número de origens: 3\n",
      "Número de destinos: 2\n",
      "Demandas: [2300, 1400]\n",
      "Capacidades de atendimento: [1000, 1500, 1200]\n",
      "Matriz de custos:\n",
      "[[ 80. 215.]\n",
      " [100. 108.]\n",
      " [102.  68.]]\n"
     ]
    }
   ],
   "source": [
    "# Teste de leitura e preparação da tabela\n",
    "arquivo = 'Entrada Problema de Transporte.txt'\n",
    "num_origens, num_destinos, cap_atendimento, demandas, matriz_custos = ler_entrada(arquivo)\n",
    "\n",
    "print(f\"Número de origens: {num_origens}\")\n",
    "print(f\"Número de destinos: {num_destinos}\")\n",
    "print(f\"Demandas: {demandas}\")\n",
    "print(f\"Capacidades de atendimento: {cap_atendimento}\")\n",
    "print(\"Matriz de custos:\")\n",
    "print(matriz_custos)"
   ]
  },
  {
   "cell_type": "code",
   "execution_count": 14,
   "metadata": {},
   "outputs": [
    {
     "name": "stdout",
     "output_type": "stream",
     "text": [
      "Matriz de alocação inicial:\n",
      "[[1000.    0.]\n",
      " [1300.  200.]\n",
      " [   0. 1200.]]\n"
     ]
    }
   ],
   "source": [
    "import numpy as np\n",
    "\n",
    "def metodo_menor_custo(num_origens, num_destinos, cap_atendimento, demandas, matriz_custos):\n",
    "    alocacao = np.zeros((num_origens, num_destinos), dtype=np.float64)\n",
    "    \n",
    "    # Convertendo listas para arrays numpy para facilitar operações\n",
    "    capacidade = np.array(cap_atendimento, dtype=np.float64)\n",
    "    demanda = np.array(demandas, dtype=np.float64)\n",
    "    custos = np.array(matriz_custos, dtype=np.float64)\n",
    "    \n",
    "    # Criando cópia das capacidades e demandas para atualizar conforme alocação\n",
    "    capacidade_restante = capacidade.copy()\n",
    "    demanda_restante = demanda.copy()\n",
    "    \n",
    "    while np.any(capacidade_restante > 0) and np.any(demanda_restante > 0):\n",
    "        # Encontrando a célula de menor custo\n",
    "        custo_min = np.inf\n",
    "        pos_min = (-1, -1)\n",
    "        \n",
    "        for i in range(num_origens):\n",
    "            for j in range(num_destinos):\n",
    "                if capacidade_restante[i] > 0 and demanda_restante[j] > 0:\n",
    "                    if custos[i, j] < custo_min:\n",
    "                        custo_min = custos[i, j]\n",
    "                        pos_min = (i, j)\n",
    "        \n",
    "        i, j = pos_min\n",
    "        \n",
    "        # Determinar a quantidade a ser alocada na célula de menor custo\n",
    "        quantidade = min(capacidade_restante[i], demanda_restante[j])\n",
    "        alocacao[i, j] = quantidade\n",
    "        \n",
    "        # Atualizar capacidade e demanda restantes\n",
    "        capacidade_restante[i] -= quantidade\n",
    "        demanda_restante[j] -= quantidade\n",
    "    \n",
    "    return alocacao\n",
    "\n",
    "# Exemplo de uso\n",
    "alocacao = metodo_menor_custo(num_origens, num_destinos, cap_atendimento, demandas, matriz_custos)\n",
    "print(\"Matriz de alocação inicial:\")\n",
    "print(alocacao)\n"
   ]
  },
  {
   "cell_type": "markdown",
   "metadata": {},
   "source": [
    "Interpretação da matriz de alocação inicial:\n",
    "\n",
    "As linhas são as origens e as colunas são os destinos. Na primeira linha, a origem 1 mandou 1000 unidades para o destino 1, porque era o mais vantajoso. A origem 2 tem 1500 disponíveis. O menor custo para ele também é para o destino 1, então ele aloca 1300 unidades para atender o restante da demanda desse destino, sobrando 200, que são enviados para a segunda demanda."
   ]
  }
 ],
 "metadata": {
  "kernelspec": {
   "display_name": "Python 3",
   "language": "python",
   "name": "python3"
  },
  "language_info": {
   "codemirror_mode": {
    "name": "ipython",
    "version": 3
   },
   "file_extension": ".py",
   "mimetype": "text/x-python",
   "name": "python",
   "nbconvert_exporter": "python",
   "pygments_lexer": "ipython3",
   "version": "3.12.8"
  }
 },
 "nbformat": 4,
 "nbformat_minor": 2
}
