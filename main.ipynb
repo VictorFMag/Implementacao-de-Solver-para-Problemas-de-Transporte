{
 "cells": [
  {
   "cell_type": "code",
   "execution_count": null,
   "metadata": {},
   "outputs": [],
   "source": [
    "import numpy as np\n",
    "import pandas as pd"
   ]
  },
  {
   "cell_type": "markdown",
   "metadata": {},
   "source": [
    "# Lendo o arquivo de entrada e preparando a tabela inicial"
   ]
  },
  {
   "cell_type": "code",
   "execution_count": 2,
   "metadata": {},
   "outputs": [],
   "source": [
    "def ler_entrada(arquivo):\n",
    "    try:\n",
    "        with open(arquivo, 'r') as f:\n",
    "            linhas = [linha.strip() for linha in f.readlines()]\n",
    "        \n",
    "        if len(linhas) < 5:\n",
    "            raise ValueError(\"O arquivo deve ter pelo menos 5 linhas: número de origens, número de destinos, capacidades de atendimento de cada origem, demandas de cada destino, e matriz de custos de transporte.\")\n",
    "        \n",
    "        try:\n",
    "            num_origens = int(linhas[0])\n",
    "            if num_origens <= 0:\n",
    "                raise ValueError(\"O número de origens deve ser um inteiro positivo.\")\n",
    "        except ValueError:\n",
    "            raise ValueError(\"A primeira linha deve ser um número inteiro positivo.\")\n",
    "\n",
    "        try:\n",
    "            num_destinos = int(linhas[1])\n",
    "            if num_destinos <= 0:\n",
    "                raise ValueError(\"O número de destinos deve ser um inteiro positivo.\")\n",
    "        except ValueError:\n",
    "            raise ValueError(\"A segunda linha deve ser um número inteiro positivo indicando o número de destinos.\")\n",
    "        \n",
    "        try:\n",
    "            cap_atendimento = linhas[2].replace(', ', ' ').split()\n",
    "            cap_atendimento = [int(x) for x in cap_atendimento]\n",
    "            if len(cap_atendimento) != num_origens:\n",
    "                print(f\"O número de origens é {num_origens}.\")\n",
    "                print(f\"O número de cap é {len(cap_atendimento)}.\")\n",
    "                raise ValueError(\"A capacidade de atendimento deve ser um vetor com pelo menos 1 posição.\")\n",
    "        except ValueError:\n",
    "            raise ValueError(\"A terceira linha deve ser um vetor com pelo menos 1 posição.\")\n",
    "        \n",
    "        try:\n",
    "            demandas = linhas[3].replace(', ', ' ').split()\n",
    "            demandas = [int(x) for x in demandas]\n",
    "            if len(demandas) != num_destinos:\n",
    "                print(f\"O número de demandas é {len(demandas)}.\")\n",
    "                print(f\"O número de destinos é {num_destinos}.\")\n",
    "                raise ValueError(f\"A quantidade de demandas deve ser igual ao número de destinos ({num_destinos}).\")\n",
    "        except ValueError:\n",
    "            raise ValueError(\"A quarta linha deve ser um vetor com pelo menos 1 posição.\")\n",
    "\n",
    "        if len(linhas) != 4 + num_origens:\n",
    "            raise ValueError(f\"O arquivo deve ter exatamente {4 + num_origens} linhas, mas possui {len(linhas)}.\")\n",
    "        \n",
    "        try:\n",
    "            matriz_custos = np.zeros((num_origens, num_destinos), dtype=np.float64)\n",
    "            for i in range(num_origens):\n",
    "                valores = linhas[4 + i].replace(', ', ' ').split()\n",
    "                if len(valores) != num_destinos:\n",
    "                    raise ValueError(f\"A linha {5 + i} deve conter exatamente {num_destinos} valores.\")\n",
    "                matriz_custos[i, :] = [float(x) for x in valores]\n",
    "        except ValueError:\n",
    "            raise ValueError(\"A quarta linha deve conter os coeficientes da função objetivo, separados por vírgulas ou espaços.\")\n",
    "        \n",
    "        return num_origens, num_destinos, cap_atendimento, demandas, matriz_custos\n",
    "\n",
    "    except FileNotFoundError:\n",
    "        raise FileNotFoundError(f\"O arquivo '{arquivo}' não foi encontrado.\")\n",
    "    except Exception as e:\n",
    "        raise RuntimeError(f\"Erro ao ler o arquivo: {e}\")"
   ]
  },
  {
   "cell_type": "code",
   "execution_count": 3,
   "metadata": {},
   "outputs": [
    {
     "name": "stdout",
     "output_type": "stream",
     "text": [
      "Número de origens: 3\n",
      "Número de destinos: 4\n",
      "Demandas: [5, 15, 15, 15]\n",
      "Capacidades de atendimento: [15, 25, 10]\n",
      "Matriz de custos:\n",
      "[[10.  2. 20. 11.]\n",
      " [12.  7.  9. 20.]\n",
      " [ 4. 14. 16. 18.]]\n"
     ]
    }
   ],
   "source": [
    "# Teste de leitura e preparação da tabela\n",
    "arquivo = 'Entrada2.txt'\n",
    "num_origens, num_destinos, cap_atendimento, demandas, matriz_custos = ler_entrada(arquivo)\n",
    "\n",
    "print(f\"Número de origens: {num_origens}\")\n",
    "print(f\"Número de destinos: {num_destinos}\")\n",
    "print(f\"Demandas: {demandas}\")\n",
    "print(f\"Capacidades de atendimento: {cap_atendimento}\")\n",
    "print(\"Matriz de custos:\")\n",
    "print(matriz_custos)"
   ]
  },
  {
   "cell_type": "code",
   "execution_count": 4,
   "metadata": {},
   "outputs": [],
   "source": [
    "def balancear_problema(num_origens, num_destinos, cap_atendimento, demandas):\n",
    "    if sum(cap_atendimento) > sum(demandas):\n",
    "        print(\"Capacidade de atendimento é maior que a demanda total\")\n",
    "        demandas.append(sum(cap_atendimento) - sum(demandas))\n",
    "        num_destinos += 1\n",
    "    elif sum(cap_atendimento) < sum(demandas):\n",
    "        print(\"Demanda total é maior que a capacidade de atendimento\")\n",
    "        cap_atendimento.append(sum(demandas) - sum(cap_atendimento))\n",
    "        num_origens += 1\n",
    "    return num_origens, num_destinos, cap_atendimento, demandas"
   ]
  },
  {
   "cell_type": "code",
   "execution_count": 5,
   "metadata": {},
   "outputs": [
    {
     "name": "stdout",
     "output_type": "stream",
     "text": [
      "Número de origens: 3\n",
      "Número de destinos: 4\n",
      "Demandas: [5, 15, 15, 15]\n",
      "Capacidades de atendimento: [15, 25, 10]\n",
      "Matriz de custos:\n",
      "[[10.  2. 20. 11.]\n",
      " [12.  7.  9. 20.]\n",
      " [ 4. 14. 16. 18.]]\n"
     ]
    }
   ],
   "source": [
    "num_origens, num_destinos, cap_atendimento, demandas = balancear_problema(num_origens, num_destinos, cap_atendimento, demandas)\n",
    "\n",
    "print(f\"Número de origens: {num_origens}\")\n",
    "print(f\"Número de destinos: {num_destinos}\")\n",
    "print(f\"Demandas: {demandas}\")\n",
    "print(f\"Capacidades de atendimento: {cap_atendimento}\")\n",
    "print(\"Matriz de custos:\")\n",
    "print(matriz_custos)"
   ]
  },
  {
   "cell_type": "code",
   "execution_count": null,
   "metadata": {},
   "outputs": [
    {
     "name": "stdout",
     "output_type": "stream",
     "text": [
      "Tabela inicial:\n"
     ]
    },
    {
     "data": {
      "text/html": [
       "<div>\n",
       "<style scoped>\n",
       "    .dataframe tbody tr th:only-of-type {\n",
       "        vertical-align: middle;\n",
       "    }\n",
       "\n",
       "    .dataframe tbody tr th {\n",
       "        vertical-align: top;\n",
       "    }\n",
       "\n",
       "    .dataframe thead th {\n",
       "        text-align: right;\n",
       "    }\n",
       "</style>\n",
       "<table border=\"1\" class=\"dataframe\">\n",
       "  <thead>\n",
       "    <tr style=\"text-align: right;\">\n",
       "      <th></th>\n",
       "      <th>D1</th>\n",
       "      <th>D2</th>\n",
       "      <th>D3</th>\n",
       "      <th>D4</th>\n",
       "      <th>Oferta</th>\n",
       "    </tr>\n",
       "  </thead>\n",
       "  <tbody>\n",
       "    <tr>\n",
       "      <th>O1</th>\n",
       "      <td>10.0</td>\n",
       "      <td>2.0</td>\n",
       "      <td>20.0</td>\n",
       "      <td>11.0</td>\n",
       "      <td>15</td>\n",
       "    </tr>\n",
       "    <tr>\n",
       "      <th>O2</th>\n",
       "      <td>12.0</td>\n",
       "      <td>7.0</td>\n",
       "      <td>9.0</td>\n",
       "      <td>20.0</td>\n",
       "      <td>25</td>\n",
       "    </tr>\n",
       "    <tr>\n",
       "      <th>O3</th>\n",
       "      <td>4.0</td>\n",
       "      <td>14.0</td>\n",
       "      <td>16.0</td>\n",
       "      <td>18.0</td>\n",
       "      <td>10</td>\n",
       "    </tr>\n",
       "    <tr>\n",
       "      <th>Demanda</th>\n",
       "      <td>5.0</td>\n",
       "      <td>15.0</td>\n",
       "      <td>15.0</td>\n",
       "      <td>15.0</td>\n",
       "      <td>None</td>\n",
       "    </tr>\n",
       "  </tbody>\n",
       "</table>\n",
       "</div>"
      ],
      "text/plain": [
       "           D1    D2    D3    D4 Oferta\n",
       "O1       10.0   2.0  20.0  11.0     15\n",
       "O2       12.0   7.0   9.0  20.0     25\n",
       "O3        4.0  14.0  16.0  18.0     10\n",
       "Demanda   5.0  15.0  15.0  15.0   None"
      ]
     },
     "execution_count": 6,
     "metadata": {},
     "output_type": "execute_result"
    }
   ],
   "source": [
    "def gerar_tabela_inicial(num_origens, num_destinos, cap_atendimento, demandas, matriz_custos):    \n",
    "    fabricas = [f\"O{i+1}\" for i in range(num_origens)]\n",
    "    distribuicao = [f\"D{j+1}\" for j in range(num_destinos)]\n",
    "    \n",
    "    tabela = pd.DataFrame(matriz_custos, index=fabricas, columns=distribuicao)\n",
    "    tabela[\"Oferta\"] = cap_atendimento\n",
    "    demanda_row = pd.DataFrame([demandas + [None]], index=[\"Demanda\"], columns=tabela.columns)\n",
    "    \n",
    "    tabela = pd.concat([tabela, demanda_row])\n",
    "    \n",
    "    return tabela\n",
    "\n",
    "tabela = gerar_tabela_inicial(num_origens, num_destinos, cap_atendimento, demandas, matriz_custos)\n",
    "print(\"Tabela inicial:\")\n",
    "tabela"
   ]
  },
  {
   "cell_type": "code",
   "execution_count": null,
   "metadata": {},
   "outputs": [
    {
     "data": {
      "text/html": [
       "<div>\n",
       "<style scoped>\n",
       "    .dataframe tbody tr th:only-of-type {\n",
       "        vertical-align: middle;\n",
       "    }\n",
       "\n",
       "    .dataframe tbody tr th {\n",
       "        vertical-align: top;\n",
       "    }\n",
       "\n",
       "    .dataframe thead th {\n",
       "        text-align: right;\n",
       "    }\n",
       "</style>\n",
       "<table border=\"1\" class=\"dataframe\">\n",
       "  <thead>\n",
       "    <tr style=\"text-align: right;\">\n",
       "      <th></th>\n",
       "      <th>D1</th>\n",
       "      <th>D2</th>\n",
       "      <th>D3</th>\n",
       "      <th>D4</th>\n",
       "    </tr>\n",
       "  </thead>\n",
       "  <tbody>\n",
       "    <tr>\n",
       "      <th>O1</th>\n",
       "      <td>5.0</td>\n",
       "      <td>10.0</td>\n",
       "      <td>0.0</td>\n",
       "      <td>0.0</td>\n",
       "    </tr>\n",
       "    <tr>\n",
       "      <th>O2</th>\n",
       "      <td>0.0</td>\n",
       "      <td>5.0</td>\n",
       "      <td>15.0</td>\n",
       "      <td>5.0</td>\n",
       "    </tr>\n",
       "    <tr>\n",
       "      <th>O3</th>\n",
       "      <td>0.0</td>\n",
       "      <td>0.0</td>\n",
       "      <td>0.0</td>\n",
       "      <td>10.0</td>\n",
       "    </tr>\n",
       "  </tbody>\n",
       "</table>\n",
       "</div>"
      ],
      "text/plain": [
       "     D1    D2    D3    D4\n",
       "O1  5.0  10.0   0.0   0.0\n",
       "O2  0.0   5.0  15.0   5.0\n",
       "O3  0.0   0.0   0.0  10.0"
      ]
     },
     "execution_count": 7,
     "metadata": {},
     "output_type": "execute_result"
    }
   ],
   "source": [
    "def gerar_solucao_basica_viavel(tabela):\n",
    "    solucao = tabela.copy()\n",
    "\n",
    "    # Matriz para armazenar as alocações sem modificar os custos\n",
    "    alocacoes = pd.DataFrame(np.zeros_like(solucao.iloc[:-1, :-1]), \n",
    "                             index=solucao.index[:-1], \n",
    "                             columns=solucao.columns[:-1])\n",
    "\n",
    "    contador_linha = 0\n",
    "    contador_coluna = 0\n",
    "    \n",
    "    while solucao.iloc[:-1, -1].sum() > 0 and solucao.iloc[-1, :-1].sum() > 0:\n",
    "        oferta_disponivel = solucao.iloc[contador_linha, -1]\n",
    "        demanda_disponivel = solucao.iloc[-1, contador_coluna]\n",
    "        \n",
    "        # Alocar o mínimo entre a oferta e a demanda (máximo possível para a célula)\n",
    "        quantidade = min(oferta_disponivel, demanda_disponivel)\n",
    "        alocacoes.iloc[contador_linha, contador_coluna] = quantidade\n",
    "\n",
    "        # Atualizar oferta e demanda\n",
    "        solucao.iloc[contador_linha, -1] -= quantidade\n",
    "        solucao.iloc[-1, contador_coluna] -= quantidade\n",
    "\n",
    "        if solucao.iloc[contador_linha, -1] == 0:\n",
    "            contador_linha += 1\n",
    "        elif solucao.iloc[-1, contador_coluna] == 0:\n",
    "            contador_coluna += 1\n",
    "\n",
    "    return alocacoes\n",
    "\n",
    "solucao = gerar_solucao_basica_viavel(tabela)\n",
    "solucao"
   ]
  },
  {
   "cell_type": "code",
   "execution_count": null,
   "metadata": {},
   "outputs": [],
   "source": []
  }
 ],
 "metadata": {
  "kernelspec": {
   "display_name": "Python 3",
   "language": "python",
   "name": "python3"
  },
  "language_info": {
   "codemirror_mode": {
    "name": "ipython",
    "version": 3
   },
   "file_extension": ".py",
   "mimetype": "text/x-python",
   "name": "python",
   "nbconvert_exporter": "python",
   "pygments_lexer": "ipython3",
   "version": "3.13.1"
  }
 },
 "nbformat": 4,
 "nbformat_minor": 2
}
